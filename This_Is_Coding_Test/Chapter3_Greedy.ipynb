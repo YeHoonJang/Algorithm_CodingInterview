{
 "cells": [
  {
   "cell_type": "markdown",
   "metadata": {},
   "source": [
    "# 예제 3-1 - 거스름돈"
   ]
  },
  {
   "cell_type": "markdown",
   "metadata": {},
   "source": [
    "### 🖌가장 큰 화폐단위부터 돈을 거슬러 주는 것"
   ]
  },
  {
   "cell_type": "code",
   "execution_count": 7,
   "metadata": {},
   "outputs": [
    {
     "name": "stdout",
     "output_type": "stream",
     "text": [
      "6\n"
     ]
    }
   ],
   "source": [
    "n = 1260\n",
    "count = 0\n",
    "\n",
    "#큰 단위의 화페부터 차례대로 확인\n",
    "coin_types = [500, 100, 50, 10]\n",
    "\n",
    "for coin in coin_types:\n",
    "    count += n//coin #해당 화폐로 거슬러 줄 수 있는 동전의 개수 세기\n",
    "    n %= coin\n",
    "    \n",
    "\n",
    "print(count)"
   ]
  },
  {
   "cell_type": "markdown",
   "metadata": {},
   "source": [
    "# 실전문제 - 큰 수의 법칙"
   ]
  },
  {
   "cell_type": "markdown",
   "metadata": {},
   "source": [
    "## 내 풀이"
   ]
  },
  {
   "cell_type": "code",
   "execution_count": 64,
   "metadata": {},
   "outputs": [
    {
     "name": "stdout",
     "output_type": "stream",
     "text": [
      "5 7 2\n",
      "3 4 3 4 3\n",
      "28\n"
     ]
    }
   ],
   "source": [
    "n, m, k = map(int, input().split())\n",
    "data = list(map(int, input().split()))\n",
    "\n",
    "data.sort(reverse=True)\n",
    "\n",
    "count = 1\n",
    "idx = 0\n",
    "big_num = 0\n",
    "for i in range(m):\n",
    "    if count != k:\n",
    "        big_num += data[idx]\n",
    "        count += 1\n",
    "    else:\n",
    "        big_num += data[idx+1]\n",
    "        count = 1\n",
    "    \n",
    "print(big_num)"
   ]
  },
  {
   "cell_type": "markdown",
   "metadata": {},
   "source": [
    "## 답안"
   ]
  },
  {
   "cell_type": "code",
   "execution_count": 69,
   "metadata": {},
   "outputs": [
    {
     "name": "stdout",
     "output_type": "stream",
     "text": [
      "5 8 3\n",
      "2 4 5 4 6\n",
      "46\n"
     ]
    }
   ],
   "source": [
    "#반복되는 수열 파악\n",
    "#n=5, m=8, k=3, data = [2, 4, 5, 4, 6] 일 때, [6, 6, 6, 5]가 반복됨\n",
    "#따라서, 숫자 4개가 반복되므로 가장 큰 수는 (m//(k+1))*k + m%(k+1) 만큼 더해짐\n",
    "\n",
    "n, m, k = map(int, input().split())\n",
    "data = list(map(int, input().split()))\n",
    "\n",
    "data.sort(reverse=True)\n",
    "\n",
    "first = data[0]\n",
    "second = data[1]\n",
    "\n",
    "#가장 큰 수가 더해지는 횟수 계산\n",
    "count = (m//(k+1))*k\n",
    "count += m%(k+1) #m이 k+1로 딱 나누어 떨어지지 않을 때\n",
    "\n",
    "result = 0\n",
    "result += (count)*first #가장 큰 수 더하기\n",
    "result += (m-count)*second #두번쨰 큰 수 더하기\n",
    "\n",
    "print(result)"
   ]
  },
  {
   "cell_type": "markdown",
   "metadata": {},
   "source": [
    "# 실전문제 - 숫자 카드 게임"
   ]
  },
  {
   "cell_type": "markdown",
   "metadata": {},
   "source": [
    "## 내 풀이"
   ]
  },
  {
   "cell_type": "code",
   "execution_count": 82,
   "metadata": {},
   "outputs": [
    {
     "name": "stdout",
     "output_type": "stream",
     "text": [
      "2 4\n",
      "7 3 1 8\n",
      "3 3 3 4\n",
      "3\n"
     ]
    }
   ],
   "source": [
    "n, m  = map(int, input().split())\n",
    "cards = []\n",
    "for _ in range(n):\n",
    "    cards.append(list(map(int, input().split())))\n",
    "    \n",
    "min_cards = []\n",
    "for i in range(n):\n",
    "    min_cards.append(min(cards[i]))\n",
    "\n",
    "print(max(min_cards))"
   ]
  },
  {
   "cell_type": "markdown",
   "metadata": {},
   "source": [
    "## 답안"
   ]
  },
  {
   "cell_type": "code",
   "execution_count": 84,
   "metadata": {},
   "outputs": [
    {
     "name": "stdout",
     "output_type": "stream",
     "text": [
      "2 4\n",
      "7 3 1 8\n",
      "3 3 3 4\n",
      "3\n"
     ]
    }
   ],
   "source": [
    "n, m  = map(int, input().split())\n",
    "\n",
    "result = 0\n",
    "\n",
    "for i in range(n):\n",
    "    data = list(map(int, input().split()))\n",
    "    min_value = min(data)\n",
    "    result = max(result, min_value)\n",
    "    \n",
    "print(result)"
   ]
  },
  {
   "cell_type": "markdown",
   "metadata": {},
   "source": [
    "# 실전문제 - 1이 될 때까지"
   ]
  },
  {
   "cell_type": "markdown",
   "metadata": {},
   "source": [
    "## 내 풀이"
   ]
  },
  {
   "cell_type": "code",
   "execution_count": 136,
   "metadata": {},
   "outputs": [
    {
     "name": "stdout",
     "output_type": "stream",
     "text": [
      "25 3\n",
      "6\n"
     ]
    }
   ],
   "source": [
    "n, k = map(int, input().split())\n",
    "\n",
    "def make_one(n, k, count):\n",
    "    if n != 1:\n",
    "        if n%k == 0:\n",
    "            n = n//k\n",
    "            count += 1\n",
    "            return make_one(n, k, count)\n",
    "        else:\n",
    "            n -= 1\n",
    "            count += 1\n",
    "            return make_one(n, k, count)\n",
    "    else:\n",
    "        print(count)\n",
    "        \n",
    "make_one(n,k,0)"
   ]
  },
  {
   "cell_type": "markdown",
   "metadata": {},
   "source": [
    "## 답안 (재귀x)"
   ]
  },
  {
   "cell_type": "code",
   "execution_count": 137,
   "metadata": {},
   "outputs": [
    {
     "name": "stdout",
     "output_type": "stream",
     "text": [
      "25 5\n",
      "2\n"
     ]
    }
   ],
   "source": [
    "n, k = map(int, input().split())\n",
    "result = 0\n",
    "\n",
    "while True:\n",
    "    #n==k로 나누어 떨어질 때까지 1씩 뺴기\n",
    "    target = (n//k)*k\n",
    "    result += n-target\n",
    "    n = target\n",
    "    \n",
    "    #n이 k보다 작을 때(더 이상 나눌 수 없을 떄) 반복문 탈출\n",
    "    if n < k:\n",
    "        break\n",
    "    result += 1\n",
    "    n //= k\n",
    "\n",
    "#마지막으로 남은 수에 대하여 1씩 뺴기\n",
    "result += (n-1)\n",
    "print(result)"
   ]
  }
 ],
 "metadata": {
  "kernelspec": {
   "display_name": "Python 3",
   "language": "python",
   "name": "python3"
  },
  "language_info": {
   "codemirror_mode": {
    "name": "ipython",
    "version": 3
   },
   "file_extension": ".py",
   "mimetype": "text/x-python",
   "name": "python",
   "nbconvert_exporter": "python",
   "pygments_lexer": "ipython3",
   "version": "3.7.4"
  }
 },
 "nbformat": 4,
 "nbformat_minor": 2
}
